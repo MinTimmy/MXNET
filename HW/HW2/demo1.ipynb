{
 "metadata": {
  "language_info": {
   "codemirror_mode": {
    "name": "ipython",
    "version": 3
   },
   "file_extension": ".py",
   "mimetype": "text/x-python",
   "name": "python",
   "nbconvert_exporter": "python",
   "pygments_lexer": "ipython3",
   "version": "3.8.5-final"
  },
  "orig_nbformat": 2,
  "kernelspec": {
   "name": "python385jvsc74a57bd0015f6b6c618775a8a0cda37bc53ad812edc185f61629a44da4bb1a83fb3eaba5",
   "display_name": "Python 3.8.5 64-bit ('base': conda)"
  }
 },
 "nbformat": 4,
 "nbformat_minor": 2,
 "cells": [
  {
   "cell_type": "code",
   "execution_count": 24,
   "metadata": {},
   "outputs": [
    {
     "output_type": "stream",
     "name": "stdout",
     "text": [
      "[7.0160085e-01 1.9902354e-01 2.6866606e-01 3.1277063e-04 2.2575868e-02]\n",
      "[0.37352327 0.13180742 0.4174347  0.52402395 0.3956078 ]\n",
      "/home/timmy/.local/lib/python3.8/site-packages/mxnet/gluon/parameter.py:893: UserWarning: Parameter 'mydense23_weight' is already initialized, ignoring. Set force_reinit=True to re-initialize.\n",
      "  v.initialize(None, ctx, init, force_reinit=force_reinit)\n",
      "/home/timmy/.local/lib/python3.8/site-packages/mxnet/gluon/parameter.py:893: UserWarning: Parameter 'mydense23_bias' is already initialized, ignoring. Set force_reinit=True to re-initialize.\n",
      "  v.initialize(None, ctx, init, force_reinit=force_reinit)\n"
     ]
    },
    {
     "output_type": "execute_result",
     "data": {
      "text/plain": [
       "array([[0.        , 0.06130326, 0.        , 0.        , 0.        ,\n",
       "        0.        , 0.        , 0.        ],\n",
       "       [0.        , 0.05945534, 0.        , 0.        , 0.        ,\n",
       "        0.        , 0.        , 0.        ]])"
      ]
     },
     "metadata": {},
     "execution_count": 24
    }
   ],
   "source": [
    "from mxnet import np, npx\n",
    "from mxnet.gluon import nn\n",
    "\n",
    "npx.set_np()\n",
    "\n",
    "class MyDense(nn.Block):\n",
    "    def __init__(self, units, in_units, **kwargs):\n",
    "        super().__init__(**kwargs)\n",
    "        self.weight = self.params.get('weight', shape=(in_units, units))\n",
    "        self.bias = self.params.get('bias', shape=(units,))\n",
    "\n",
    "    def forward(self, x):\n",
    "        linear = np.dot(\n",
    "            x, self.weight.data(ctx=x.ctx)) + self.bias.data(ctx=x.ctx)\n",
    "        return npx.relu(linear)\n",
    "\n",
    "\n",
    "r = 2\n",
    "c = 5\n",
    "X1 = np.random.uniform(size=(r,c))\n",
    "X2 = np.random.uniform(size=(r,c))\n",
    "X3 = np.random.uniform(size=(r,c))\n",
    "\n",
    "for i in range(len(X1)):\n",
    "    for j in range(len(X1[0])):\n",
    "        X3[i][j] = X1[i][j] * X2[i][j]\n",
    "\n",
    "for i in X3:\n",
    "    print(i)\n",
    "\n",
    "net = nn.Sequential()\n",
    "net.add(MyDense(units= 3, in_units=c))\n",
    "net.initialize()\n",
    "net(X3)\n",
    "net.add(MyDense(units= 8, in_units=3))\n",
    "net.initialize()\n",
    "net(X3)"
   ]
  },
  {
   "cell_type": "code",
   "execution_count": null,
   "metadata": {},
   "outputs": [],
   "source": []
  },
  {
   "cell_type": "code",
   "execution_count": null,
   "metadata": {},
   "outputs": [],
   "source": [
    "\n"
   ]
  }
 ]
}