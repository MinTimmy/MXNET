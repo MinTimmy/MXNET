{
 "metadata": {
  "language_info": {
   "codemirror_mode": {
    "name": "ipython",
    "version": 3
   },
   "file_extension": ".py",
   "mimetype": "text/x-python",
   "name": "python",
   "nbconvert_exporter": "python",
   "pygments_lexer": "ipython3",
   "version": "3.8.5-final"
  },
  "orig_nbformat": 2,
  "kernelspec": {
   "name": "python385jvsc74a57bd0015f6b6c618775a8a0cda37bc53ad812edc185f61629a44da4bb1a83fb3eaba5",
   "display_name": "Python 3.8.5 64-bit ('base': conda)"
  }
 },
 "nbformat": 4,
 "nbformat_minor": 2,
 "cells": [
  {
   "cell_type": "code",
   "execution_count": 11,
   "metadata": {},
   "outputs": [
    {
     "output_type": "execute_result",
     "data": {
      "text/plain": [
       "array([[2.1189232, 1.0872579],\n",
       "       [1.0872579, 1.9910656]])"
      ]
     },
     "metadata": {},
     "execution_count": 11
    }
   ],
   "source": [
    "from mxnet import np, npx\n",
    "from mxnet.gluon import nn\n",
    "\n",
    "npx.set_np()\n",
    "\n",
    "class MyDense(nn.Block):\n",
    "    def __init__(self, units, in_units, **kwargs):\n",
    "        super().__init__(**kwargs)\n",
    "        self.weight = self.params.get('weight', shape=(in_units, units))\n",
    "        self.bias = self.params.get('bias', shape=(units,))\n",
    "\n",
    "    def forward(self, x):\n",
    "        x = np.dot(x, x.transpose())\n",
    "        linear = np.dot(\n",
    "            x, self.weight.data(ctx=x.ctx)) + self.bias.data(ctx=x.ctx)\n",
    "        return npx.relu(linear)\n",
    "\n",
    "\n",
    "r = 2\n",
    "c = 5\n",
    "X1 = np.random.uniform(size=(r,c))\n",
    "X2 = np.random.uniform(size=(r,c))\n",
    "X3 = np.random.uniform(size=(r,c))\n",
    "\n",
    "# for i in range(len(X1)):\n",
    "#     for j in range(len(X1[0])):\n",
    "#         X3[i][j] = X1[i][j] * X2[i][j]\n",
    "\n",
    "# for i in X3:\n",
    "#     print(i)\n",
    "\n",
    "net = nn.Sequential()\n",
    "\n",
    "net.add(MyDense(units= 3, in_units=c))\n",
    "net.initialize()\n",
    "# net(X3)\n",
    "X3.transpose()\n",
    "np.matmul(X3,X3.transpose())\n",
    "# net.add(MyDense(units= 8, in_units=3))\n",
    "# net.initialize()\n",
    "# net(X3)"
   ]
  },
  {
   "cell_type": "code",
   "execution_count": null,
   "metadata": {},
   "outputs": [],
   "source": []
  },
  {
   "cell_type": "code",
   "execution_count": null,
   "metadata": {},
   "outputs": [],
   "source": [
    "\n"
   ]
  }
 ]
}