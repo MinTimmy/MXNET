{
 "metadata": {
  "language_info": {
   "codemirror_mode": {
    "name": "ipython",
    "version": 3
   },
   "file_extension": ".py",
   "mimetype": "text/x-python",
   "name": "python",
   "nbconvert_exporter": "python",
   "pygments_lexer": "ipython3",
   "version": "3.8.5-final"
  },
  "orig_nbformat": 2,
  "kernelspec": {
   "name": "python385jvsc74a57bd0015f6b6c618775a8a0cda37bc53ad812edc185f61629a44da4bb1a83fb3eaba5",
   "display_name": "Python 3.8.5 64-bit ('base': conda)"
  }
 },
 "nbformat": 4,
 "nbformat_minor": 2,
 "cells": [
  {
   "cell_type": "code",
   "execution_count": 59,
   "metadata": {},
   "outputs": [
    {
     "output_type": "stream",
     "name": "stdout",
     "text": [
      "Input:\n[0.0194021  0.00639672 0.12975658 0.10523313 0.30877054]\n[1.2684712e-01 3.2368201e-01 2.2489119e-04 1.1413688e-01 4.4332191e-01]\n\n\nOutput:\n"
     ]
    },
    {
     "output_type": "execute_result",
     "data": {
      "text/plain": [
       "array([[0.0303513 , 0.        , 0.05606122, 0.01546856, 0.        ],\n",
       "       [0.03023084, 0.        , 0.05609899, 0.01535609, 0.        ]])"
      ]
     },
     "metadata": {},
     "execution_count": 59
    }
   ],
   "source": [
    "from mxnet import np, npx\n",
    "from mxnet.gluon import nn\n",
    "\n",
    "npx.set_np()\n",
    "\n",
    "class MyDense(nn.Block):\n",
    "    def __init__(self, units, in_units, **kwargs):\n",
    "        super().__init__(**kwargs)\n",
    "        self.weight = self.params.get('weight', shape=(in_units, units))\n",
    "        self.bias = self.params.get('bias', shape=(units,))\n",
    "\n",
    "    def forward(self, x):\n",
    "        linear = np.dot(\n",
    "            x, self.weight.data(ctx=x.ctx)) + self.bias.data(ctx=x.ctx)\n",
    "        return npx.relu(linear)\n",
    "\n",
    "\n",
    "r = 2\n",
    "c = 5\n",
    "X1 = np.random.uniform(size=(r,c))\n",
    "X2 = np.random.uniform(size=(r,c))\n",
    "X3 = np.random.uniform(size=(r,c))\n",
    "\n",
    "for i in range(len(X1)):\n",
    "    for j in range(len(X1[0])):\n",
    "        X3[i][j] = X1[i][j] * X2[i][j]\n",
    "\n",
    "print(\"Input:\")\n",
    "for i in X3:\n",
    "    print(i)\n",
    "\n",
    "print(\"\\n\")\n",
    "net = nn.Sequential()\n",
    "net.add(MyDense(units= 3, in_units=c))\n",
    "net.add(MyDense(units= 5, in_units=3))\n",
    "\n",
    "print(\"Output:\")\n",
    "net.initialize()\n",
    "net(X3)\n"
   ]
  },
  {
   "cell_type": "code",
   "execution_count": null,
   "metadata": {},
   "outputs": [],
   "source": []
  },
  {
   "cell_type": "code",
   "execution_count": 8,
   "metadata": {},
   "outputs": [],
   "source": [
    "\n"
   ]
  },
  {
   "cell_type": "code",
   "execution_count": null,
   "metadata": {},
   "outputs": [],
   "source": []
  }
 ]
}