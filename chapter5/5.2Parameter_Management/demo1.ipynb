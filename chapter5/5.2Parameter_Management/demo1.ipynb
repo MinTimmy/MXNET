{
 "metadata": {
  "language_info": {
   "codemirror_mode": {
    "name": "ipython",
    "version": 3
   },
   "file_extension": ".py",
   "mimetype": "text/x-python",
   "name": "python",
   "nbconvert_exporter": "python",
   "pygments_lexer": "ipython3",
   "version": "3.8.5-final"
  },
  "orig_nbformat": 2,
  "kernelspec": {
   "name": "python385jvsc74a57bd0015f6b6c618775a8a0cda37bc53ad812edc185f61629a44da4bb1a83fb3eaba5",
   "display_name": "Python 3.8.5 64-bit ('base': conda)"
  }
 },
 "nbformat": 4,
 "nbformat_minor": 2,
 "cells": [
  {
   "cell_type": "code",
   "execution_count": 1,
   "metadata": {},
   "outputs": [
    {
     "output_type": "stream",
     "name": "stdout",
     "text": [
      "dense1_ (\n  Parameter dense1_weight (shape=(1, 8), dtype=float32)\n  Parameter dense1_bias (shape=(1,), dtype=float32)\n)\n<class 'mxnet.gluon.parameter.Parameter'>\nParameter dense1_bias (shape=(1,), dtype=float32)\n[0.]\ndense0_ (\n  Parameter dense0_weight (shape=(8, 4), dtype=float32)\n  Parameter dense0_bias (shape=(8,), dtype=float32)\n)\nsequential0_ (\n  Parameter dense0_weight (shape=(8, 4), dtype=float32)\n  Parameter dense0_bias (shape=(8,), dtype=float32)\n  Parameter dense1_weight (shape=(1, 8), dtype=float32)\n  Parameter dense1_bias (shape=(1,), dtype=float32)\n)\n"
     ]
    }
   ],
   "source": [
    "from mxnet import init, np, npx\n",
    "from mxnet.gluon import nn\n",
    "\n",
    "npx.set_np()\n",
    "\n",
    "net = nn.Sequential()\n",
    "net.add(nn.Dense(8, activation='relu'))\n",
    "net.add(nn.Dense(1))\n",
    "net.initialize()  # Use the default initialization method\n",
    "\n",
    "X = np.random.uniform(size=(2, 4))\n",
    "net(X)  # Forward computation\n",
    "\n",
    "print(net[1].params)\n",
    "print(type(net[1].bias))\n",
    "print(net[1].bias)\n",
    "print(net[1].bias.data())\n",
    "print(net[0].collect_params())\n",
    "print(net.collect_params())\n"
   ]
  },
  {
   "cell_type": "code",
   "execution_count": null,
   "metadata": {},
   "outputs": [],
   "source": []
  }
 ]
}