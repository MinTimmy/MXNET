{
 "metadata": {
  "language_info": {
   "codemirror_mode": {
    "name": "ipython",
    "version": 3
   },
   "file_extension": ".py",
   "mimetype": "text/x-python",
   "name": "python",
   "nbconvert_exporter": "python",
   "pygments_lexer": "ipython3",
   "version": "3.8.5-final"
  },
  "orig_nbformat": 2,
  "kernelspec": {
   "name": "python385jvsc74a57bd0015f6b6c618775a8a0cda37bc53ad812edc185f61629a44da4bb1a83fb3eaba5",
   "display_name": "Python 3.8.5 64-bit ('base': conda)"
  }
 },
 "nbformat": 4,
 "nbformat_minor": 2,
 "cells": [
  {
   "cell_type": "code",
   "execution_count": 2,
   "metadata": {},
   "outputs": [
    {
     "output_type": "stream",
     "name": "stdout",
     "text": [
      "<bound method Block.collect_params of Sequential(\n  (0): Sequential(\n    (0): Sequential(\n      (0): Dense(4 -> 32, Activation(relu))\n      (1): Dense(32 -> 16, Activation(relu))\n    )\n    (1): Sequential(\n      (0): Dense(16 -> 32, Activation(relu))\n      (1): Dense(32 -> 16, Activation(relu))\n    )\n    (2): Sequential(\n      (0): Dense(16 -> 32, Activation(relu))\n      (1): Dense(32 -> 16, Activation(relu))\n    )\n    (3): Sequential(\n      (0): Dense(16 -> 32, Activation(relu))\n      (1): Dense(32 -> 16, Activation(relu))\n    )\n  )\n  (1): Dense(16 -> 10, linear)\n)>\nsequential6_ (\n  Parameter dense9_weight (shape=(32, 4), dtype=float32)\n  Parameter dense9_bias (shape=(32,), dtype=float32)\n  Parameter dense10_weight (shape=(16, 32), dtype=float32)\n  Parameter dense10_bias (shape=(16,), dtype=float32)\n  Parameter dense11_weight (shape=(32, 16), dtype=float32)\n  Parameter dense11_bias (shape=(32,), dtype=float32)\n  Parameter dense12_weight (shape=(16, 32), dtype=float32)\n  Parameter dense12_bias (shape=(16,), dtype=float32)\n  Parameter dense13_weight (shape=(32, 16), dtype=float32)\n  Parameter dense13_bias (shape=(32,), dtype=float32)\n  Parameter dense14_weight (shape=(16, 32), dtype=float32)\n  Parameter dense14_bias (shape=(16,), dtype=float32)\n  Parameter dense15_weight (shape=(32, 16), dtype=float32)\n  Parameter dense15_bias (shape=(32,), dtype=float32)\n  Parameter dense16_weight (shape=(16, 32), dtype=float32)\n  Parameter dense16_bias (shape=(16,), dtype=float32)\n  Parameter dense17_weight (shape=(10, 16), dtype=float32)\n  Parameter dense17_bias (shape=(10,), dtype=float32)\n)\n"
     ]
    }
   ],
   "source": [
    "from mxnet import init, np, npx\n",
    "from mxnet.gluon import nn\n",
    "\n",
    "npx.set_np()\n",
    "\n",
    "\n",
    "def block1():\n",
    "    net = nn.Sequential()\n",
    "    net.add(nn.Dense(32, activation='relu'))\n",
    "    net.add(nn.Dense(16, activation='relu'))\n",
    "    return net\n",
    "\n",
    "def block2():\n",
    "    net = nn.Sequential()\n",
    "    for _ in range(4):\n",
    "        # Nested here\n",
    "        net.add(block1())\n",
    "    return net\n",
    "X = np.random.uniform(size=(2, 4))\n",
    "\n",
    "rgnet = nn.Sequential()\n",
    "rgnet.add(block2())\n",
    "rgnet.add(nn.Dense(10))\n",
    "rgnet.initialize()\n",
    "rgnet(X)\n",
    "\n",
    "\n",
    "print(rgnet.collect_params)\n",
    "print(rgnet.collect_params())\n"
   ]
  },
  {
   "cell_type": "code",
   "execution_count": null,
   "metadata": {},
   "outputs": [],
   "source": []
  }
 ]
}